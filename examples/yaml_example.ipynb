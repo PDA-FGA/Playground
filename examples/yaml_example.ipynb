{
 "cells": [
  {
   "attachments": {},
   "cell_type": "markdown",
   "metadata": {},
   "source": [
    "# Using YAML file\n",
    "\n",
    "Update the yaml file with your needed configs and run the notebook"
   ]
  },
  {
   "cell_type": "code",
   "execution_count": null,
   "metadata": {},
   "outputs": [],
   "source": [
    "import hygia as hg\n",
    "\n",
    "config_file = '../config/default_config.yaml'\n",
    "result = hg.run_with_config(config_file)\n",
    "result "
   ]
  }
 ],
 "metadata": {
  "kernelspec": {
   "display_name": "Python 3.9.16 ('env': venv)",
   "language": "python",
   "name": "python3"
  },
  "language_info": {
   "codemirror_mode": {
    "name": "ipython",
    "version": 3
   },
   "file_extension": ".py",
   "mimetype": "text/x-python",
   "name": "python",
   "nbconvert_exporter": "python",
   "pygments_lexer": "ipython3",
   "version": "3.9.16"
  },
  "orig_nbformat": 4,
  "vscode": {
   "interpreter": {
    "hash": "e46586f29fe5e457cab913e550e4adb40fe0e0134f73028154375029c57105e1"
   }
  }
 },
 "nbformat": 4,
 "nbformat_minor": 2
}
