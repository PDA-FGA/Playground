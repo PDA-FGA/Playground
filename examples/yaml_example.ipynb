{
 "cells": [
  {
   "attachments": {},
   "cell_type": "markdown",
   "metadata": {},
   "source": [
    "# Using YAML file\n",
    "\n",
    "Update the yaml file with your needed configs and run the notebook"
   ]
  },
  {
   "cell_type": "code",
   "execution_count": 1,
   "metadata": {},
   "outputs": [
    {
     "name": "stdout",
     "output_type": "stream",
     "text": [
      "\u001b[35m------ HYGIA ------\u001b[37m\n",
      "------------------------------\n",
      "\u001b[47m\u001b[30mRunning PRE PROCESSING...\u001b[40m\u001b[37m\n",
      "aliases indified: \u001b[1mstreet -> \u001b[22m['STREET_ADDRESS_1', 'STREET_ADDRESS_2']\n",
      "handle null values in the column \u001b[1mstreet\u001b[22m\n",
      "------------------------------\n",
      "\u001b[47m\u001b[30mRunning FEATURE ENGINEERING...\u001b[40m\u001b[37m\n",
      "handle null values in the column \u001b[1mstreet\u001b[22m\n",
      "\u001b[33mrunning feature engineering with configs below...\u001b[37m\n",
      "\u001b[1mlanguage -> \u001b[22mes\n",
      "\u001b[1mdimensions -> \u001b[22m25\n",
      "extract features from -> street\n",
      "handle null values in the column \u001b[1mSTREET_ADDRESS_1\u001b[22m\n",
      "\u001b[33mrunning feature engineering with configs below...\u001b[37m\n",
      "\u001b[1mlanguage -> \u001b[22mes\n",
      "\u001b[1mdimensions -> \u001b[22m25\n",
      "extract features from -> STREET_ADDRESS_1\n",
      "------------------------------\n",
      "\u001b[47m\u001b[30mRunning ANNOTATE DATA...\u001b[40m\u001b[37m\n",
      "\u001b[33mrunning annotate data with configs below...\u001b[37m\n",
      "\u001b[1mthresholds -> \u001b[22m{'count_sequence_squared_vowels': 1.0, 'count_sequence_squared_consonants': 1.999, 'count_sequence_squared_special_characters': 2.2499, 'ratio_of_numeric_digits_squared': 2.9, 'average_of_char_count_squared': 2.78}\n",
      "column -> street\n",
      "------------------------------\n",
      "\u001b[47m\u001b[30mRunning MODEL (KEYBOARD-SMASH)...\u001b[40m\u001b[37m\n",
      "\u001b[33mrunning model...\u001b[37m\n"
     ]
    },
    {
     "name": "stderr",
     "output_type": "stream",
     "text": [
      "/Users/leonardogomes/Documents/dell/hygia/env/lib/python3.9/site-packages/sklearn/base.py:409: UserWarning: X does not have valid feature names, but RandomForestClassifier was fitted with feature names\n",
      "  warnings.warn(\n"
     ]
    },
    {
     "name": "stdout",
     "output_type": "stream",
     "text": [
      "------------------------------\n",
      "\u001b[32mexporting to ../data/tmp/prediction_street.csv\u001b[37m\n",
      "\u001b[33mrunning model...\u001b[37m\n"
     ]
    },
    {
     "name": "stderr",
     "output_type": "stream",
     "text": [
      "/Users/leonardogomes/Documents/dell/hygia/env/lib/python3.9/site-packages/sklearn/base.py:409: UserWarning: X does not have valid feature names, but RandomForestClassifier was fitted with feature names\n",
      "  warnings.warn(\n"
     ]
    },
    {
     "name": "stdout",
     "output_type": "stream",
     "text": [
      "------------------------------\n",
      "\u001b[32mexporting to ../data/tmp/prediction_STREET_ADDRESS_1.csv\u001b[37m\n"
     ]
    },
    {
     "data": {
      "text/html": [
       "<div>\n",
       "<style scoped>\n",
       "    .dataframe tbody tr th:only-of-type {\n",
       "        vertical-align: middle;\n",
       "    }\n",
       "\n",
       "    .dataframe tbody tr th {\n",
       "        vertical-align: top;\n",
       "    }\n",
       "\n",
       "    .dataframe thead th {\n",
       "        text-align: right;\n",
       "    }\n",
       "</style>\n",
       "<table border=\"1\" class=\"dataframe\">\n",
       "  <thead>\n",
       "    <tr style=\"text-align: right;\">\n",
       "      <th></th>\n",
       "      <th>street</th>\n",
       "      <th>prediction_street</th>\n",
       "      <th>STREET_ADDRESS_1</th>\n",
       "      <th>prediction_STREET_ADDRESS_1</th>\n",
       "    </tr>\n",
       "  </thead>\n",
       "  <tbody>\n",
       "    <tr>\n",
       "      <th>0</th>\n",
       "      <td>CARRET FED 307 KM 298.8 CHETUMAL- PUERTO JUAREZ</td>\n",
       "      <td>0.0</td>\n",
       "      <td>CARRET FED 307 KM 298.8</td>\n",
       "      <td>0.0</td>\n",
       "    </tr>\n",
       "    <tr>\n",
       "      <th>1</th>\n",
       "      <td>CARRETERA YERBABUENA- PUENTECILLA KM. 1.7</td>\n",
       "      <td>0.0</td>\n",
       "      <td>CARRETERA YERBABUENA-</td>\n",
       "      <td>0.0</td>\n",
       "    </tr>\n",
       "    <tr>\n",
       "      <th>2</th>\n",
       "      <td>CARR IRAPUATO-ABASOLO KM 5 COL PURISIMA DEL JA...</td>\n",
       "      <td>0.0</td>\n",
       "      <td>CARR IRAPUATO-ABASOLO KM 5</td>\n",
       "      <td>0.0</td>\n",
       "    </tr>\n",
       "    <tr>\n",
       "      <th>3</th>\n",
       "      <td>PRESA DE LAS VIRGENES 115 DESP. 6 COL IRRIGACI...</td>\n",
       "      <td>0.0</td>\n",
       "      <td>PRESA DE LAS VIRGENES 115</td>\n",
       "      <td>0.0</td>\n",
       "    </tr>\n",
       "    <tr>\n",
       "      <th>4</th>\n",
       "      <td>AV RAFAEL NAVAS SIN NUMERO COL INDUSTRIAL EL C...</td>\n",
       "      <td>0.0</td>\n",
       "      <td>AV RAFAEL NAVAS SIN NUMERO</td>\n",
       "      <td>0.0</td>\n",
       "    </tr>\n",
       "    <tr>\n",
       "      <th>...</th>\n",
       "      <td>...</td>\n",
       "      <td>...</td>\n",
       "      <td>...</td>\n",
       "      <td>...</td>\n",
       "    </tr>\n",
       "    <tr>\n",
       "      <th>99995</th>\n",
       "      <td>COLIMA 114-202 COL ROMA DEL CUAUHTEMOC</td>\n",
       "      <td>0.0</td>\n",
       "      <td>COLIMA 114-202 COL ROMA</td>\n",
       "      <td>0.0</td>\n",
       "    </tr>\n",
       "    <tr>\n",
       "      <th>99996</th>\n",
       "      <td>18 DE MARZO6 INTERIOR 1 PROGRESO</td>\n",
       "      <td>0.0</td>\n",
       "      <td>18 DE MARZO6 INTERIOR 1</td>\n",
       "      <td>0.0</td>\n",
       "    </tr>\n",
       "    <tr>\n",
       "      <th>99997</th>\n",
       "      <td>XOCHIAPAN 38 PEDREGAL DE SANTO DOMINGO</td>\n",
       "      <td>0.0</td>\n",
       "      <td>XOCHIAPAN 38</td>\n",
       "      <td>0.0</td>\n",
       "    </tr>\n",
       "    <tr>\n",
       "      <th>99998</th>\n",
       "      <td>JUANA DE ASBAJE S/N COL. LA ORILLITA</td>\n",
       "      <td>0.0</td>\n",
       "      <td>JUANA DE ASBAJE S/N</td>\n",
       "      <td>0.0</td>\n",
       "    </tr>\n",
       "    <tr>\n",
       "      <th>99999</th>\n",
       "      <td>PROL. PASEO DE LA REFORMA 5287 COL. CUAJIMALPA</td>\n",
       "      <td>0.0</td>\n",
       "      <td>PROL. PASEO DE LA REFORMA 5287</td>\n",
       "      <td>0.0</td>\n",
       "    </tr>\n",
       "  </tbody>\n",
       "</table>\n",
       "<p>100000 rows × 4 columns</p>\n",
       "</div>"
      ],
      "text/plain": [
       "                                                  street  prediction_street  \\\n",
       "0       CARRET FED 307 KM 298.8 CHETUMAL- PUERTO JUAREZ                 0.0   \n",
       "1              CARRETERA YERBABUENA- PUENTECILLA KM. 1.7                0.0   \n",
       "2      CARR IRAPUATO-ABASOLO KM 5 COL PURISIMA DEL JA...                0.0   \n",
       "3      PRESA DE LAS VIRGENES 115 DESP. 6 COL IRRIGACI...                0.0   \n",
       "4      AV RAFAEL NAVAS SIN NUMERO COL INDUSTRIAL EL C...                0.0   \n",
       "...                                                  ...                ...   \n",
       "99995             COLIMA 114-202 COL ROMA DEL CUAUHTEMOC                0.0   \n",
       "99996                   18 DE MARZO6 INTERIOR 1 PROGRESO                0.0   \n",
       "99997            XOCHIAPAN 38 PEDREGAL DE SANTO DOMINGO                 0.0   \n",
       "99998               JUANA DE ASBAJE S/N COL. LA ORILLITA                0.0   \n",
       "99999     PROL. PASEO DE LA REFORMA 5287 COL. CUAJIMALPA                0.0   \n",
       "\n",
       "                     STREET_ADDRESS_1  prediction_STREET_ADDRESS_1  \n",
       "0             CARRET FED 307 KM 298.8                          0.0  \n",
       "1               CARRETERA YERBABUENA-                          0.0  \n",
       "2          CARR IRAPUATO-ABASOLO KM 5                          0.0  \n",
       "3           PRESA DE LAS VIRGENES 115                          0.0  \n",
       "4          AV RAFAEL NAVAS SIN NUMERO                          0.0  \n",
       "...                               ...                          ...  \n",
       "99995         COLIMA 114-202 COL ROMA                          0.0  \n",
       "99996         18 DE MARZO6 INTERIOR 1                          0.0  \n",
       "99997                    XOCHIAPAN 38                          0.0  \n",
       "99998             JUANA DE ASBAJE S/N                          0.0  \n",
       "99999  PROL. PASEO DE LA REFORMA 5287                          0.0  \n",
       "\n",
       "[100000 rows x 4 columns]"
      ]
     },
     "execution_count": 1,
     "metadata": {},
     "output_type": "execute_result"
    }
   ],
   "source": [
    "import hygia as hg\n",
    "\n",
    "config_file = '../config/default_config.yaml'\n",
    "result = hg.run_with_config(config_file)\n",
    "result "
   ]
  }
 ],
 "metadata": {
  "kernelspec": {
   "display_name": "Python 3.9.16 ('env': venv)",
   "language": "python",
   "name": "python3"
  },
  "language_info": {
   "codemirror_mode": {
    "name": "ipython",
    "version": 3
   },
   "file_extension": ".py",
   "mimetype": "text/x-python",
   "name": "python",
   "nbconvert_exporter": "python",
   "pygments_lexer": "ipython3",
   "version": "3.9.16"
  },
  "orig_nbformat": 4,
  "vscode": {
   "interpreter": {
    "hash": "e46586f29fe5e457cab913e550e4adb40fe0e0134f73028154375029c57105e1"
   }
  }
 },
 "nbformat": 4,
 "nbformat_minor": 2
}
