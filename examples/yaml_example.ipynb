{
 "cells": [
  {
   "attachments": {},
   "cell_type": "markdown",
   "metadata": {},
   "source": [
    "# Using YAML file\n",
    "\n",
    "With the help of a configuration file in .yaml format, users can easily specify the pipeline steps they want to run with the Hygia Library. This boilerplate provides a hands-on approach to using the functions of the Hygia Library, making it easier for users to automate experiments on various databases. The goal is to help data scientists save time and resources while still achieving accurate results. Get started with this boilerplate and simplify your experimentation process today!"
   ]
  },
  {
   "cell_type": "code",
   "execution_count": null,
   "metadata": {},
   "outputs": [],
   "source": [
    "import hygia as hg\n",
    "\n",
    "config_file = '../config/default_config.yaml'\n",
    "result = hg.run_with_config(config_file)\n",
    "result "
   ]
  }
 ],
 "metadata": {
  "kernelspec": {
   "display_name": "Python 3 (ipykernel)",
   "language": "python",
   "name": "python3"
  },
  "language_info": {
   "codemirror_mode": {
    "name": "ipython",
    "version": 3
   },
   "file_extension": ".py",
   "mimetype": "text/x-python",
   "name": "python",
   "nbconvert_exporter": "python",
   "pygments_lexer": "ipython3",
   "version": "3.10.11"
  },
  "vscode": {
   "interpreter": {
    "hash": "e46586f29fe5e457cab913e550e4adb40fe0e0134f73028154375029c57105e1"
   }
  }
 },
 "nbformat": 4,
 "nbformat_minor": 2
}
