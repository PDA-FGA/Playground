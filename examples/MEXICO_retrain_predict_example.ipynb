{
 "cells": [
  {
   "cell_type": "code",
   "execution_count": 1,
   "metadata": {},
   "outputs": [],
   "source": [
    "import pandas as pd\n",
    "import hygia as hg\n",
    "import pickle"
   ]
  },
  {
   "attachments": {},
   "cell_type": "markdown",
   "metadata": {},
   "source": [
    "# Classes instanciations\n",
    "\n",
    "NOTE: Please check if the model_path matches your path"
   ]
  },
  {
   "cell_type": "code",
   "execution_count": 3,
   "metadata": {},
   "outputs": [],
   "source": [
    "pre_process_data = hg.PreProcessData()\n",
    "feature_engineering = hg.FeatureEngineering()\n",
    "annotate_data = hg.AnnotateData()\n",
    "new_rf_model = hg.RandomForestModel()"
   ]
  },
  {
   "attachments": {},
   "cell_type": "markdown",
   "metadata": {},
   "source": [
    "# Load Data\n",
    "\n",
    "NOTE: Please check if the file_path matches your data"
   ]
  },
  {
   "cell_type": "code",
   "execution_count": 4,
   "metadata": {},
   "outputs": [],
   "source": [
    "file_path = '../data/tmp/AI_LATA_ADDRESS_MEX_modificado.csv'\n",
    "df = pd.read_csv(file_path, sep='¨', nrows=None, engine='python')"
   ]
  },
  {
   "attachments": {},
   "cell_type": "markdown",
   "metadata": {},
   "source": [
    "# Add new columns\n",
    "\n",
    "1. Concatenate address\n",
    "2. All features columns:\n",
    "    - Key Smash\n",
    "    - Regex\n",
    "    - Word Embedding\n",
    "\n",
    "NOTE: Please check if the columns names matches your data"
   ]
  },
  {
   "cell_type": "code",
   "execution_count": 5,
   "metadata": {},
   "outputs": [],
   "source": [
    "concatened_column_name = 'concat_STREET_ADDRESS_1_STREET_ADDRESS_2'\n",
    "df = pre_process_data.pre_process_data(df, ['STREET_ADDRESS_1', 'STREET_ADDRESS_2'], concatened_column_name)\n",
    "df = feature_engineering.extract_features(df, concatened_column_name)"
   ]
  },
  {
   "attachments": {},
   "cell_type": "markdown",
   "metadata": {},
   "source": [
    "# Check new columns names"
   ]
  },
  {
   "cell_type": "code",
   "execution_count": 6,
   "metadata": {},
   "outputs": [
    {
     "data": {
      "text/plain": [
       "['feature_ks_count_sequence_squared_vowels_concat_STREET_ADDRESS_1_STREET_ADDRESS_2',\n",
       " 'feature_ks_count_sequence_squared_consonants_concat_STREET_ADDRESS_1_STREET_ADDRESS_2',\n",
       " 'feature_ks_count_sequence_squared_special_characters_concat_STREET_ADDRESS_1_STREET_ADDRESS_2',\n",
       " 'feature_ks_ratio_of_numeric_digits_squared_concat_STREET_ADDRESS_1_STREET_ADDRESS_2',\n",
       " 'feature_ks_average_of_char_count_squared_concat_STREET_ADDRESS_1_STREET_ADDRESS_2',\n",
       " 'feature_we_0_concat_STREET_ADDRESS_1_STREET_ADDRESS_2',\n",
       " 'feature_we_1_concat_STREET_ADDRESS_1_STREET_ADDRESS_2',\n",
       " 'feature_we_2_concat_STREET_ADDRESS_1_STREET_ADDRESS_2',\n",
       " 'feature_we_3_concat_STREET_ADDRESS_1_STREET_ADDRESS_2',\n",
       " 'feature_we_4_concat_STREET_ADDRESS_1_STREET_ADDRESS_2',\n",
       " 'feature_we_5_concat_STREET_ADDRESS_1_STREET_ADDRESS_2',\n",
       " 'feature_we_6_concat_STREET_ADDRESS_1_STREET_ADDRESS_2',\n",
       " 'feature_we_7_concat_STREET_ADDRESS_1_STREET_ADDRESS_2',\n",
       " 'feature_we_8_concat_STREET_ADDRESS_1_STREET_ADDRESS_2',\n",
       " 'feature_we_9_concat_STREET_ADDRESS_1_STREET_ADDRESS_2',\n",
       " 'feature_we_10_concat_STREET_ADDRESS_1_STREET_ADDRESS_2',\n",
       " 'feature_we_11_concat_STREET_ADDRESS_1_STREET_ADDRESS_2',\n",
       " 'feature_we_12_concat_STREET_ADDRESS_1_STREET_ADDRESS_2',\n",
       " 'feature_we_13_concat_STREET_ADDRESS_1_STREET_ADDRESS_2',\n",
       " 'feature_we_14_concat_STREET_ADDRESS_1_STREET_ADDRESS_2',\n",
       " 'feature_we_15_concat_STREET_ADDRESS_1_STREET_ADDRESS_2',\n",
       " 'feature_we_16_concat_STREET_ADDRESS_1_STREET_ADDRESS_2',\n",
       " 'feature_we_17_concat_STREET_ADDRESS_1_STREET_ADDRESS_2',\n",
       " 'feature_we_18_concat_STREET_ADDRESS_1_STREET_ADDRESS_2',\n",
       " 'feature_we_19_concat_STREET_ADDRESS_1_STREET_ADDRESS_2',\n",
       " 'feature_we_20_concat_STREET_ADDRESS_1_STREET_ADDRESS_2',\n",
       " 'feature_we_21_concat_STREET_ADDRESS_1_STREET_ADDRESS_2',\n",
       " 'feature_we_22_concat_STREET_ADDRESS_1_STREET_ADDRESS_2',\n",
       " 'feature_we_23_concat_STREET_ADDRESS_1_STREET_ADDRESS_2',\n",
       " 'feature_we_24_concat_STREET_ADDRESS_1_STREET_ADDRESS_2',\n",
       " 'feature_re_contains_exactly_the_word_dell_concat_STREET_ADDRESS_1_STREET_ADDRESS_2',\n",
       " 'feature_re_contains_exactly_the_word_test_concat_STREET_ADDRESS_1_STREET_ADDRESS_2',\n",
       " 'feature_re_only_numbers_concat_STREET_ADDRESS_1_STREET_ADDRESS_2',\n",
       " 'feature_re_only_special_characters_concat_STREET_ADDRESS_1_STREET_ADDRESS_2',\n",
       " 'feature_re_contains_email_concat_STREET_ADDRESS_1_STREET_ADDRESS_2',\n",
       " 'feature_re_contains_url_concat_STREET_ADDRESS_1_STREET_ADDRESS_2',\n",
       " 'feature_re_contains_date_concat_STREET_ADDRESS_1_STREET_ADDRESS_2',\n",
       " 'feature_re_contains_invalid_words_concat_STREET_ADDRESS_1_STREET_ADDRESS_2',\n",
       " 'feature_re_is_substring_of_column_name_concat_STREET_ADDRESS_1_STREET_ADDRESS_2',\n",
       " 'feature_re_only_one_char_concat_STREET_ADDRESS_1_STREET_ADDRESS_2',\n",
       " 'feature_re_only_white_spaces_concat_STREET_ADDRESS_1_STREET_ADDRESS_2',\n",
       " 'feature_re_empty_concat_STREET_ADDRESS_1_STREET_ADDRESS_2']"
      ]
     },
     "execution_count": 6,
     "metadata": {},
     "output_type": "execute_result"
    }
   ],
   "source": [
    "all_features_columns = [col for col in df if col.startswith('feature_ks') or col.startswith('feature_we') or col.startswith('feature_re')]\n",
    "all_features_columns"
   ]
  },
  {
   "attachments": {},
   "cell_type": "markdown",
   "metadata": {},
   "source": [
    "# Annotate data"
   ]
  },
  {
   "cell_type": "code",
   "execution_count": 7,
   "metadata": {},
   "outputs": [
    {
     "data": {
      "text/plain": [
       "valid                             1363810\n",
       "key_smash                             904\n",
       "contains_email                        412\n",
       "contains_exactly_the_word_test        182\n",
       "only_special_characters               151\n",
       "contains_exactly_the_word_dell        126\n",
       "only_one_char                          16\n",
       "contains_invalid_words                 10\n",
       "only_white_spaces                       2\n",
       "Name: target, dtype: int64"
      ]
     },
     "execution_count": 7,
     "metadata": {},
     "output_type": "execute_result"
    }
   ],
   "source": [
    "key_smash_thresholds = {\n",
    "    'count_sequence_squared_vowels': 1.00,\n",
    "    'count_sequence_squared_consonants': 1.999,\n",
    "    'count_sequence_squared_special_characters': 2.2499,\n",
    "    'ratio_of_numeric_digits_squared': 2.9,\n",
    "    'average_of_char_count_squared': 2.78,\n",
    "}\n",
    "\n",
    "df = annotate_data.annotate_data(df, concatened_column_name, key_smash_thresholds)\n",
    "df"
   ]
  },
  {
   "cell_type": "code",
   "execution_count": 8,
   "metadata": {},
   "outputs": [
    {
     "data": {
      "text/plain": [
       "valid                             2514911\n",
       "key_smash                            1770\n",
       "only_special_characters              1291\n",
       "contains_email                        720\n",
       "contains_exactly_the_word_test        667\n",
       "contains_exactly_the_word_dell        553\n",
       "only_one_char                         287\n",
       "only_white_spaces                      71\n",
       "contains_invalid_words                 26\n",
       "Name: target, dtype: int64"
      ]
     },
     "execution_count": 8,
     "metadata": {},
     "output_type": "execute_result"
    }
   ],
   "source": [
    "df['target'].value_counts()"
   ]
  },
  {
   "attachments": {},
   "cell_type": "markdown",
   "metadata": {},
   "source": [
    "# Experiment: retrain model"
   ]
  },
  {
   "cell_type": "code",
   "execution_count": 9,
   "metadata": {},
   "outputs": [
    {
     "data": {
      "text/plain": [
       "{'accuracy': 0.998769987699877,\n",
       " 'precision': 0.9965156794425087,\n",
       " 'recall': 1.0,\n",
       " 'f1': 0.9982547993019197}"
      ]
     },
     "execution_count": 9,
     "metadata": {},
     "output_type": "execute_result"
    }
   ],
   "source": [
    "clf, scores = new_rf_model.train_and_get_scores(df, concatened_column_name, all_features_columns)\n",
    "scores"
   ]
  },
  {
   "attachments": {},
   "cell_type": "markdown",
   "metadata": {},
   "source": [
    "# Predict using pre-trained model"
   ]
  },
  {
   "cell_type": "code",
   "execution_count": 10,
   "metadata": {},
   "outputs": [
    {
     "name": "stderr",
     "output_type": "stream",
     "text": [
      "/home/anapaula/dell/Playground/env/lib/python3.8/site-packages/sklearn/base.py:409: UserWarning: X does not have valid feature names, but RandomForestClassifier was fitted with feature names\n",
      "  warnings.warn(\n"
     ]
    },
    {
     "data": {
      "text/plain": [
       "0.0    1362585\n",
       "1.0       3028\n",
       "Name: prediction, dtype: int64"
      ]
     },
     "execution_count": 10,
     "metadata": {},
     "output_type": "execute_result"
    }
   ],
   "source": [
    "df['prediction'] = new_rf_model.predict(df[all_features_columns].values)\n",
    "df.drop_duplicates(subset=[concatened_column_name])['prediction'].value_counts()"
   ]
  },
  {
   "attachments": {},
   "cell_type": "markdown",
   "metadata": {},
   "source": [
    "# Save model and predicted data"
   ]
  },
  {
   "cell_type": "code",
   "execution_count": 14,
   "metadata": {},
   "outputs": [],
   "source": [
    "pickle.dump(clf, open('../data/models/RandomForest_Ksmash_WordEmbedding_Regex.pkl', 'wb'))"
   ]
  },
  {
   "cell_type": "code",
   "execution_count": 11,
   "metadata": {},
   "outputs": [],
   "source": [
    "df[df['prediction'] == 1][[concatened_column_name, 'prediction']].drop_duplicates(subset=[concatened_column_name]).to_csv('../data/tmp/prediction.csv')"
   ]
  },
  {
   "cell_type": "code",
   "execution_count": 12,
   "metadata": {},
   "outputs": [],
   "source": [
    "df['prediction'] = df['target'] == 'key_smash'\n",
    "df['prediction_model'] = df['prediction']\n",
    "df[df['prediction_model']!=df['prediction']][[concatened_column_name, 'target', 'prediction_model', 'prediction']] \\\n",
    "    .drop_duplicates(subset=[concatened_column_name]) \\\n",
    "    .to_csv('../data/tmp/prediction_better_with_model.csv')"
   ]
  },
  {
   "cell_type": "markdown",
   "metadata": {},
   "source": [
    "# Using YAMl"
   ]
  },
  {
   "cell_type": "code",
   "execution_count": 2,
   "metadata": {},
   "outputs": [
    {
     "name": "stdout",
     "output_type": "stream",
     "text": [
      "\u001b[35m------ HYGIA ------\u001b[37m\n",
      "------------------------------\n",
      "\u001b[47m\u001b[30mRunning PRE PROCESSING...\u001b[40m\u001b[37m\n",
      "aliases indified: \u001b[1mstreet -> \u001b[22m['STREET_ADDRESS_1', 'STREET_ADDRESS_2']\n",
      "------------------------------\n",
      "\u001b[47m\u001b[30mRunning FEATURE ENGINEERING...\u001b[40m\u001b[37m\n",
      "\u001b[33mrunning feature engineering with configs below...\u001b[37m\n",
      "\u001b[1mlanguage -> \u001b[22mes\n",
      "\u001b[1mdimensions -> \u001b[22m25\n",
      "extract features from -> street\n",
      "\u001b[33mrunning feature engineering with configs below...\u001b[37m\n",
      "\u001b[1mlanguage -> \u001b[22mes\n",
      "\u001b[1mdimensions -> \u001b[22m25\n",
      "extract features from -> STREET_ADDRESS_1\n"
     ]
    },
    {
     "ename": "TypeError",
     "evalue": "expected string or bytes-like object",
     "output_type": "error",
     "traceback": [
      "\u001b[0;31m---------------------------------------------------------------------------\u001b[0m",
      "\u001b[0;31mTypeError\u001b[0m                                 Traceback (most recent call last)",
      "Cell \u001b[0;32mIn[2], line 1\u001b[0m\n\u001b[0;32m----> 1\u001b[0m results \u001b[39m=\u001b[39m hg\u001b[39m.\u001b[39;49mrun_with_config(\u001b[39m'\u001b[39;49m\u001b[39m../config/default_config.yaml\u001b[39;49m\u001b[39m'\u001b[39;49m)\n\u001b[1;32m      2\u001b[0m results\n",
      "File \u001b[0;32m~/Documents/dell/hygia/hygia/main.py:66\u001b[0m, in \u001b[0;36mrun_with_config\u001b[0;34m(yaml_path)\u001b[0m\n\u001b[1;32m     64\u001b[0m     \u001b[39mfor\u001b[39;00m column \u001b[39min\u001b[39;00m feature_columns:\n\u001b[1;32m     65\u001b[0m         dimensions \u001b[39m=\u001b[39m feature_config[\u001b[39m'\u001b[39m\u001b[39mdimensions\u001b[39m\u001b[39m'\u001b[39m][column]\n\u001b[0;32m---> 66\u001b[0m         df \u001b[39m=\u001b[39m featureEngineering(lang\u001b[39m=\u001b[39;49mlang, dimensions\u001b[39m=\u001b[39;49mdimensions)\u001b[39m.\u001b[39;49mextract_features(df, column)\n\u001b[1;32m     69\u001b[0m \u001b[39m# Annotate Data\u001b[39;00m\n\u001b[1;32m     70\u001b[0m \u001b[39mprint\u001b[39m(\u001b[39m30\u001b[39m\u001b[39m*\u001b[39m\u001b[39m'\u001b[39m\u001b[39m-\u001b[39m\u001b[39m'\u001b[39m)\n",
      "File \u001b[0;32m~/Documents/dell/hygia/hygia/data_pipeline/feature_engineering/feature_engineering.py:74\u001b[0m, in \u001b[0;36mFeatureEngineering.extract_features\u001b[0;34m(self, df, text_column)\u001b[0m\n\u001b[1;32m     72\u001b[0m df \u001b[39m=\u001b[39m \u001b[39mself\u001b[39m\u001b[39m.\u001b[39mkey_smash\u001b[39m.\u001b[39mextract_key_smash_features(df, text_column)\n\u001b[1;32m     73\u001b[0m df \u001b[39m=\u001b[39m \u001b[39mself\u001b[39m\u001b[39m.\u001b[39mword_embedding\u001b[39m.\u001b[39mextract_word_embedding_features(df, text_column)\n\u001b[0;32m---> 74\u001b[0m df \u001b[39m=\u001b[39m \u001b[39mself\u001b[39;49m\u001b[39m.\u001b[39;49mregex\u001b[39m.\u001b[39;49mextract_regex_features(df, text_column)\n\u001b[1;32m     75\u001b[0m \u001b[39mreturn\u001b[39;00m df\n",
      "File \u001b[0;32m~/Documents/dell/hygia/hygia/data_pipeline/feature_engineering/regex.py:67\u001b[0m, in \u001b[0;36mRegex.extract_regex_features\u001b[0;34m(self, df, column_name)\u001b[0m\n\u001b[1;32m     52\u001b[0m regex_features \u001b[39m=\u001b[39m [\n\u001b[1;32m     53\u001b[0m     \u001b[39mself\u001b[39m\u001b[39m.\u001b[39mcontains_exactly_the_word_dell,\n\u001b[1;32m     54\u001b[0m     \u001b[39mself\u001b[39m\u001b[39m.\u001b[39mcontains_exactly_the_word_test,\n\u001b[0;32m   (...)\u001b[0m\n\u001b[1;32m     64\u001b[0m     \u001b[39mself\u001b[39m\u001b[39m.\u001b[39mempty\n\u001b[1;32m     65\u001b[0m ]\n\u001b[1;32m     66\u001b[0m \u001b[39mfor\u001b[39;00m regex_feature \u001b[39min\u001b[39;00m regex_features:\n\u001b[0;32m---> 67\u001b[0m     df[\u001b[39mf\u001b[39m\u001b[39m'\u001b[39m\u001b[39mfeature_re_\u001b[39m\u001b[39m{\u001b[39;00mregex_feature\u001b[39m.\u001b[39m\u001b[39m__name__\u001b[39m\u001b[39m}\u001b[39;00m\u001b[39m_\u001b[39m\u001b[39m{\u001b[39;00mcolumn_name\u001b[39m}\u001b[39;00m\u001b[39m'\u001b[39m] \u001b[39m=\u001b[39m df[column_name]\u001b[39m.\u001b[39;49mapply(\u001b[39mlambda\u001b[39;49;00m x: regex_feature(x) \u001b[39mif\u001b[39;49;00m regex_feature\u001b[39m.\u001b[39;49m\u001b[39m__code__\u001b[39;49m\u001b[39m.\u001b[39;49mco_argcount \u001b[39m==\u001b[39;49m \u001b[39m2\u001b[39;49m \u001b[39melse\u001b[39;49;00m regex_feature(x, column_name))\n\u001b[1;32m     68\u001b[0m \u001b[39mreturn\u001b[39;00m df\n",
      "File \u001b[0;32m~/Documents/dell/hygia/env/lib/python3.9/site-packages/pandas/core/series.py:4771\u001b[0m, in \u001b[0;36mSeries.apply\u001b[0;34m(self, func, convert_dtype, args, **kwargs)\u001b[0m\n\u001b[1;32m   4661\u001b[0m \u001b[39mdef\u001b[39;00m \u001b[39mapply\u001b[39m(\n\u001b[1;32m   4662\u001b[0m     \u001b[39mself\u001b[39m,\n\u001b[1;32m   4663\u001b[0m     func: AggFuncType,\n\u001b[0;32m   (...)\u001b[0m\n\u001b[1;32m   4666\u001b[0m     \u001b[39m*\u001b[39m\u001b[39m*\u001b[39mkwargs,\n\u001b[1;32m   4667\u001b[0m ) \u001b[39m-\u001b[39m\u001b[39m>\u001b[39m DataFrame \u001b[39m|\u001b[39m Series:\n\u001b[1;32m   4668\u001b[0m \u001b[39m    \u001b[39m\u001b[39m\"\"\"\u001b[39;00m\n\u001b[1;32m   4669\u001b[0m \u001b[39m    Invoke function on values of Series.\u001b[39;00m\n\u001b[1;32m   4670\u001b[0m \n\u001b[0;32m   (...)\u001b[0m\n\u001b[1;32m   4769\u001b[0m \u001b[39m    dtype: float64\u001b[39;00m\n\u001b[1;32m   4770\u001b[0m \u001b[39m    \"\"\"\u001b[39;00m\n\u001b[0;32m-> 4771\u001b[0m     \u001b[39mreturn\u001b[39;00m SeriesApply(\u001b[39mself\u001b[39;49m, func, convert_dtype, args, kwargs)\u001b[39m.\u001b[39;49mapply()\n",
      "File \u001b[0;32m~/Documents/dell/hygia/env/lib/python3.9/site-packages/pandas/core/apply.py:1105\u001b[0m, in \u001b[0;36mSeriesApply.apply\u001b[0;34m(self)\u001b[0m\n\u001b[1;32m   1102\u001b[0m     \u001b[39mreturn\u001b[39;00m \u001b[39mself\u001b[39m\u001b[39m.\u001b[39mapply_str()\n\u001b[1;32m   1104\u001b[0m \u001b[39m# self.f is Callable\u001b[39;00m\n\u001b[0;32m-> 1105\u001b[0m \u001b[39mreturn\u001b[39;00m \u001b[39mself\u001b[39;49m\u001b[39m.\u001b[39;49mapply_standard()\n",
      "File \u001b[0;32m~/Documents/dell/hygia/env/lib/python3.9/site-packages/pandas/core/apply.py:1156\u001b[0m, in \u001b[0;36mSeriesApply.apply_standard\u001b[0;34m(self)\u001b[0m\n\u001b[1;32m   1154\u001b[0m     \u001b[39melse\u001b[39;00m:\n\u001b[1;32m   1155\u001b[0m         values \u001b[39m=\u001b[39m obj\u001b[39m.\u001b[39mastype(\u001b[39mobject\u001b[39m)\u001b[39m.\u001b[39m_values\n\u001b[0;32m-> 1156\u001b[0m         mapped \u001b[39m=\u001b[39m lib\u001b[39m.\u001b[39;49mmap_infer(\n\u001b[1;32m   1157\u001b[0m             values,\n\u001b[1;32m   1158\u001b[0m             f,\n\u001b[1;32m   1159\u001b[0m             convert\u001b[39m=\u001b[39;49m\u001b[39mself\u001b[39;49m\u001b[39m.\u001b[39;49mconvert_dtype,\n\u001b[1;32m   1160\u001b[0m         )\n\u001b[1;32m   1162\u001b[0m \u001b[39mif\u001b[39;00m \u001b[39mlen\u001b[39m(mapped) \u001b[39mand\u001b[39;00m \u001b[39misinstance\u001b[39m(mapped[\u001b[39m0\u001b[39m], ABCSeries):\n\u001b[1;32m   1163\u001b[0m     \u001b[39m# GH#43986 Need to do list(mapped) in order to get treated as nested\u001b[39;00m\n\u001b[1;32m   1164\u001b[0m     \u001b[39m#  See also GH#25959 regarding EA support\u001b[39;00m\n\u001b[1;32m   1165\u001b[0m     \u001b[39mreturn\u001b[39;00m obj\u001b[39m.\u001b[39m_constructor_expanddim(\u001b[39mlist\u001b[39m(mapped), index\u001b[39m=\u001b[39mobj\u001b[39m.\u001b[39mindex)\n",
      "File \u001b[0;32m~/Documents/dell/hygia/env/lib/python3.9/site-packages/pandas/_libs/lib.pyx:2918\u001b[0m, in \u001b[0;36mpandas._libs.lib.map_infer\u001b[0;34m()\u001b[0m\n",
      "File \u001b[0;32m~/Documents/dell/hygia/hygia/data_pipeline/feature_engineering/regex.py:67\u001b[0m, in \u001b[0;36mRegex.extract_regex_features.<locals>.<lambda>\u001b[0;34m(x)\u001b[0m\n\u001b[1;32m     52\u001b[0m regex_features \u001b[39m=\u001b[39m [\n\u001b[1;32m     53\u001b[0m     \u001b[39mself\u001b[39m\u001b[39m.\u001b[39mcontains_exactly_the_word_dell,\n\u001b[1;32m     54\u001b[0m     \u001b[39mself\u001b[39m\u001b[39m.\u001b[39mcontains_exactly_the_word_test,\n\u001b[0;32m   (...)\u001b[0m\n\u001b[1;32m     64\u001b[0m     \u001b[39mself\u001b[39m\u001b[39m.\u001b[39mempty\n\u001b[1;32m     65\u001b[0m ]\n\u001b[1;32m     66\u001b[0m \u001b[39mfor\u001b[39;00m regex_feature \u001b[39min\u001b[39;00m regex_features:\n\u001b[0;32m---> 67\u001b[0m     df[\u001b[39mf\u001b[39m\u001b[39m'\u001b[39m\u001b[39mfeature_re_\u001b[39m\u001b[39m{\u001b[39;00mregex_feature\u001b[39m.\u001b[39m\u001b[39m__name__\u001b[39m\u001b[39m}\u001b[39;00m\u001b[39m_\u001b[39m\u001b[39m{\u001b[39;00mcolumn_name\u001b[39m}\u001b[39;00m\u001b[39m'\u001b[39m] \u001b[39m=\u001b[39m df[column_name]\u001b[39m.\u001b[39mapply(\u001b[39mlambda\u001b[39;00m x: regex_feature(x) \u001b[39mif\u001b[39;00m regex_feature\u001b[39m.\u001b[39m\u001b[39m__code__\u001b[39m\u001b[39m.\u001b[39mco_argcount \u001b[39m==\u001b[39m \u001b[39m2\u001b[39m \u001b[39melse\u001b[39;00m regex_feature(x, column_name))\n\u001b[1;32m     68\u001b[0m \u001b[39mreturn\u001b[39;00m df\n",
      "File \u001b[0;32m~/Documents/dell/hygia/hygia/data_pipeline/feature_engineering/regex.py:6\u001b[0m, in \u001b[0;36mRegex.contains_exactly_the_word_dell\u001b[0;34m(self, text)\u001b[0m\n\u001b[1;32m      4\u001b[0m \u001b[39mdef\u001b[39;00m \u001b[39mcontains_exactly_the_word_dell\u001b[39m(\u001b[39mself\u001b[39m, text:\u001b[39mstr\u001b[39m) \u001b[39m-\u001b[39m\u001b[39m>\u001b[39m \u001b[39mbool\u001b[39m:\n\u001b[1;32m      5\u001b[0m     pattern \u001b[39m=\u001b[39m \u001b[39mr\u001b[39m\u001b[39m'\u001b[39m\u001b[39m\\\u001b[39m\u001b[39mbdell\u001b[39m\u001b[39m\\\u001b[39m\u001b[39mb\u001b[39m\u001b[39m'\u001b[39m\n\u001b[0;32m----> 6\u001b[0m     \u001b[39mreturn\u001b[39;00m \u001b[39mbool\u001b[39m(re\u001b[39m.\u001b[39;49msearch(pattern, text, re\u001b[39m.\u001b[39;49mIGNORECASE))\n",
      "File \u001b[0;32m/opt/homebrew/Cellar/python@3.9/3.9.16/Frameworks/Python.framework/Versions/3.9/lib/python3.9/re.py:201\u001b[0m, in \u001b[0;36msearch\u001b[0;34m(pattern, string, flags)\u001b[0m\n\u001b[1;32m    198\u001b[0m \u001b[39mdef\u001b[39;00m \u001b[39msearch\u001b[39m(pattern, string, flags\u001b[39m=\u001b[39m\u001b[39m0\u001b[39m):\n\u001b[1;32m    199\u001b[0m \u001b[39m    \u001b[39m\u001b[39m\"\"\"Scan through string looking for a match to the pattern, returning\u001b[39;00m\n\u001b[1;32m    200\u001b[0m \u001b[39m    a Match object, or None if no match was found.\"\"\"\u001b[39;00m\n\u001b[0;32m--> 201\u001b[0m     \u001b[39mreturn\u001b[39;00m _compile(pattern, flags)\u001b[39m.\u001b[39;49msearch(string)\n",
      "\u001b[0;31mTypeError\u001b[0m: expected string or bytes-like object"
     ]
    }
   ],
   "source": [
    "results = hg.run_with_config('../config/default_config.yaml')\n",
    "results"
   ]
  }
 ],
 "metadata": {
  "kernelspec": {
   "display_name": "Python 3.9.16 ('env': venv)",
   "language": "python",
   "name": "python3"
  },
  "language_info": {
   "codemirror_mode": {
    "name": "ipython",
    "version": 3
   },
   "file_extension": ".py",
   "mimetype": "text/x-python",
   "name": "python",
   "nbconvert_exporter": "python",
   "pygments_lexer": "ipython3",
   "version": "3.9.16"
  },
  "orig_nbformat": 4,
  "vscode": {
   "interpreter": {
    "hash": "e46586f29fe5e457cab913e550e4adb40fe0e0134f73028154375029c57105e1"
   }
  }
 },
 "nbformat": 4,
 "nbformat_minor": 2
}
