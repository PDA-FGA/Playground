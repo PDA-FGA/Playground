{
 "cells": [
  {
   "cell_type": "code",
   "execution_count": 20,
   "metadata": {},
   "outputs": [],
   "source": [
    "import pandas as pd\n",
    "import hygia as hg"
   ]
  },
  {
   "cell_type": "code",
   "execution_count": null,
   "metadata": {},
   "outputs": [],
   "source": [
    "pre_process_data = hg.PreProcessData()\n",
    "feature_engineering = hg.FeatureEngineering()\n",
    "rf_model = hg.RandomForestModel(model_file='../data/RandomForest_Ksmash_WordEmbedding.model')"
   ]
  },
  {
   "cell_type": "code",
   "execution_count": 7,
   "metadata": {},
   "outputs": [
    {
     "name": "stderr",
     "output_type": "stream",
     "text": [
      "/var/folders/1_/63pltp5131g47ksfj6qtslzh0000gp/T/ipykernel_20313/2795826744.py:1: ParserWarning: Falling back to the 'python' engine because the separator encoded in utf-8 is > 1 char long, and the 'c' engine does not support such separators; you can avoid this warning by specifying engine='python'.\n",
      "  df = pd.read_csv('../data/AI_LATA_ADDRESS_MEX_modificado.csv', sep='¨', nrows=10_000).sample(frac=0.1).reset_index(drop=True)\n"
     ]
    },
    {
     "data": {
      "text/plain": [
       "Index(['feature_ks_count_sequence_squared_vowels_concat_STREET_ADDRESS_1_STREET_ADDRESS_2',\n",
       "       'feature_ks_count_sequence_squared_consonants_concat_STREET_ADDRESS_1_STREET_ADDRESS_2',\n",
       "       'feature_ks_count_sequence_squared_special_characters_concat_STREET_ADDRESS_1_STREET_ADDRESS_2',\n",
       "       'feature_ks_ratio_of_numeric_digits_squared_concat_STREET_ADDRESS_1_STREET_ADDRESS_2',\n",
       "       'feature_ks_average_of_char_count_squared_concat_STREET_ADDRESS_1_STREET_ADDRESS_2',\n",
       "       'feature_we_0_concat_STREET_ADDRESS_1_STREET_ADDRESS_2',\n",
       "       'feature_we_1_concat_STREET_ADDRESS_1_STREET_ADDRESS_2',\n",
       "       'feature_we_2_concat_STREET_ADDRESS_1_STREET_ADDRESS_2',\n",
       "       'feature_we_3_concat_STREET_ADDRESS_1_STREET_ADDRESS_2',\n",
       "       'feature_we_4_concat_STREET_ADDRESS_1_STREET_ADDRESS_2',\n",
       "       'feature_we_5_concat_STREET_ADDRESS_1_STREET_ADDRESS_2',\n",
       "       'feature_we_6_concat_STREET_ADDRESS_1_STREET_ADDRESS_2',\n",
       "       'feature_we_7_concat_STREET_ADDRESS_1_STREET_ADDRESS_2',\n",
       "       'feature_we_8_concat_STREET_ADDRESS_1_STREET_ADDRESS_2',\n",
       "       'feature_we_9_concat_STREET_ADDRESS_1_STREET_ADDRESS_2',\n",
       "       'feature_we_10_concat_STREET_ADDRESS_1_STREET_ADDRESS_2',\n",
       "       'feature_we_11_concat_STREET_ADDRESS_1_STREET_ADDRESS_2',\n",
       "       'feature_we_12_concat_STREET_ADDRESS_1_STREET_ADDRESS_2',\n",
       "       'feature_we_13_concat_STREET_ADDRESS_1_STREET_ADDRESS_2',\n",
       "       'feature_we_14_concat_STREET_ADDRESS_1_STREET_ADDRESS_2',\n",
       "       'feature_we_15_concat_STREET_ADDRESS_1_STREET_ADDRESS_2',\n",
       "       'feature_we_16_concat_STREET_ADDRESS_1_STREET_ADDRESS_2',\n",
       "       'feature_we_17_concat_STREET_ADDRESS_1_STREET_ADDRESS_2',\n",
       "       'feature_we_18_concat_STREET_ADDRESS_1_STREET_ADDRESS_2',\n",
       "       'feature_we_19_concat_STREET_ADDRESS_1_STREET_ADDRESS_2',\n",
       "       'feature_we_20_concat_STREET_ADDRESS_1_STREET_ADDRESS_2',\n",
       "       'feature_we_21_concat_STREET_ADDRESS_1_STREET_ADDRESS_2',\n",
       "       'feature_we_22_concat_STREET_ADDRESS_1_STREET_ADDRESS_2',\n",
       "       'feature_we_23_concat_STREET_ADDRESS_1_STREET_ADDRESS_2',\n",
       "       'feature_we_24_concat_STREET_ADDRESS_1_STREET_ADDRESS_2'],\n",
       "      dtype='object')"
      ]
     },
     "execution_count": 7,
     "metadata": {},
     "output_type": "execute_result"
    }
   ],
   "source": [
    "df = pd.read_csv('../data/AI_LATA_ADDRESS_MEX_modificado.csv', sep='¨', nrows=10_000).sample(frac=0.1).reset_index(drop=True)\n",
    "\n",
    "concatened_column_name = 'concat_STREET_ADDRESS_1_STREET_ADDRESS_2'\n",
    "\n",
    "pre_process_data.pre_process_data(df, ['STREET_ADDRESS_1', 'STREET_ADDRESS_2'], concatened_column_name)\n",
    "feature_engineering.extract_features(df, concatened_column_name)\n",
    "df.iloc[:,-30:].columns"
   ]
  },
  {
   "cell_type": "code",
   "execution_count": 8,
   "metadata": {},
   "outputs": [
    {
     "name": "stderr",
     "output_type": "stream",
     "text": [
      "/Users/leonardogomes/Documents/dell/Playground/env/lib/python3.9/site-packages/sklearn/base.py:402: UserWarning: X has feature names, but RandomForestClassifier was fitted without feature names\n",
      "  warnings.warn(\n"
     ]
    },
    {
     "data": {
      "text/html": [
       "<div>\n",
       "<style scoped>\n",
       "    .dataframe tbody tr th:only-of-type {\n",
       "        vertical-align: middle;\n",
       "    }\n",
       "\n",
       "    .dataframe tbody tr th {\n",
       "        vertical-align: top;\n",
       "    }\n",
       "\n",
       "    .dataframe thead th {\n",
       "        text-align: right;\n",
       "    }\n",
       "</style>\n",
       "<table border=\"1\" class=\"dataframe\">\n",
       "  <thead>\n",
       "    <tr style=\"text-align: right;\">\n",
       "      <th></th>\n",
       "      <th>concat_STREET_ADDRESS_1_STREET_ADDRESS_2</th>\n",
       "      <th>prediction</th>\n",
       "    </tr>\n",
       "  </thead>\n",
       "  <tbody>\n",
       "    <tr>\n",
       "      <th>0</th>\n",
       "      <td>TEXTITLáN 40 INT. 101EMPTY</td>\n",
       "      <td>0.0</td>\n",
       "    </tr>\n",
       "    <tr>\n",
       "      <th>1</th>\n",
       "      <td>BEGONIAS 180 FRACC DALIAS SA BEGONIAS 180 FRAC...</td>\n",
       "      <td>0.0</td>\n",
       "    </tr>\n",
       "    <tr>\n",
       "      <th>2</th>\n",
       "      <td>SANTIAGO 242EMPTY</td>\n",
       "      <td>0.0</td>\n",
       "    </tr>\n",
       "    <tr>\n",
       "      <th>3</th>\n",
       "      <td>YAMAHA BAJA MOTOR SPORT- FCO VILLA, MORALES Y ...</td>\n",
       "      <td>0.0</td>\n",
       "    </tr>\n",
       "    <tr>\n",
       "      <th>4</th>\n",
       "      <td>AVENIDA BENITO JUAREZ 318EMPTY</td>\n",
       "      <td>0.0</td>\n",
       "    </tr>\n",
       "    <tr>\n",
       "      <th>...</th>\n",
       "      <td>...</td>\n",
       "      <td>...</td>\n",
       "    </tr>\n",
       "    <tr>\n",
       "      <th>995</th>\n",
       "      <td>JUAREZ 77, CUITZEO PONCITLAN ESTANCIA DE CUITZEO</td>\n",
       "      <td>0.0</td>\n",
       "    </tr>\n",
       "    <tr>\n",
       "      <th>996</th>\n",
       "      <td>MIGUEL DE CERVANTES 301 TORRE SUR. PISO 14</td>\n",
       "      <td>0.0</td>\n",
       "    </tr>\n",
       "    <tr>\n",
       "      <th>997</th>\n",
       "      <td>fuente de la juventud 304 LAS FUENTES</td>\n",
       "      <td>0.0</td>\n",
       "    </tr>\n",
       "    <tr>\n",
       "      <th>998</th>\n",
       "      <td>FCO VILLA IV ED 6EMPTY402 FOVI FCO VILLA IV ED...</td>\n",
       "      <td>0.0</td>\n",
       "    </tr>\n",
       "    <tr>\n",
       "      <th>999</th>\n",
       "      <td>GUILLERMO PRIETO 43 COL. DON PEDRO</td>\n",
       "      <td>0.0</td>\n",
       "    </tr>\n",
       "  </tbody>\n",
       "</table>\n",
       "<p>1000 rows × 2 columns</p>\n",
       "</div>"
      ],
      "text/plain": [
       "              concat_STREET_ADDRESS_1_STREET_ADDRESS_2  prediction\n",
       "0                           TEXTITLáN 40 INT. 101EMPTY         0.0\n",
       "1    BEGONIAS 180 FRACC DALIAS SA BEGONIAS 180 FRAC...         0.0\n",
       "2                                    SANTIAGO 242EMPTY         0.0\n",
       "3    YAMAHA BAJA MOTOR SPORT- FCO VILLA, MORALES Y ...         0.0\n",
       "4                       AVENIDA BENITO JUAREZ 318EMPTY         0.0\n",
       "..                                                 ...         ...\n",
       "995   JUAREZ 77, CUITZEO PONCITLAN ESTANCIA DE CUITZEO         0.0\n",
       "996         MIGUEL DE CERVANTES 301 TORRE SUR. PISO 14         0.0\n",
       "997              fuente de la juventud 304 LAS FUENTES         0.0\n",
       "998  FCO VILLA IV ED 6EMPTY402 FOVI FCO VILLA IV ED...         0.0\n",
       "999                GUILLERMO PRIETO 43 COL. DON PEDRO          0.0\n",
       "\n",
       "[1000 rows x 2 columns]"
      ]
     },
     "execution_count": 8,
     "metadata": {},
     "output_type": "execute_result"
    }
   ],
   "source": [
    "df['prediction'] = rf_model.predict(df.iloc[:,-30:])\n",
    "df[df['prediction']== 0][[concatened_column_name, 'prediction']]"
   ]
  },
  {
   "cell_type": "code",
   "execution_count": null,
   "metadata": {},
   "outputs": [],
   "source": [
    "import hygia as hg\n",
    "\n",
    "result = hg.run_with_config('../config/default_config.yaml')\n",
    "\n",
    "result"
   ]
  }
 ],
 "metadata": {
  "kernelspec": {
   "display_name": "Python 3.9.16 ('env': venv)",
   "language": "python",
   "name": "python3"
  },
  "language_info": {
   "codemirror_mode": {
    "name": "ipython",
    "version": 3
   },
   "file_extension": ".py",
   "mimetype": "text/x-python",
   "name": "python",
   "nbconvert_exporter": "python",
   "pygments_lexer": "ipython3",
   "version": "3.9.16"
  },
  "orig_nbformat": 4,
  "vscode": {
   "interpreter": {
    "hash": "7d0a3ac93df61f375669bb493021fee5bdc0a7d0ecdaf284ecfc85a8b0f80c6e"
   }
  }
 },
 "nbformat": 4,
 "nbformat_minor": 2
}
