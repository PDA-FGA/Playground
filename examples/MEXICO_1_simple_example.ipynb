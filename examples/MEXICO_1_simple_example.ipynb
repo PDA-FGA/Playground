{
 "cells": [
  {
   "cell_type": "code",
   "execution_count": 1,
   "metadata": {},
   "outputs": [],
   "source": [
    "\n",
    "import os\n",
    "import sys\n",
    "import inspect\n",
    "import random\n",
    "from collections import Counter\n",
    "\n",
    "currentdir = os.path.dirname(\n",
    "    os.path.abspath(inspect.getfile(inspect.currentframe())))\n",
    "parentdir = os.path.dirname(currentdir)\n",
    "sys.path.insert(0, parentdir)\n",
    "sys.path.insert(0, '..')\n",
    "\n",
    "import pandas as pd\n",
    "from src.data_pipeline.feature_engineering.feature_engineering import FeatureEngineering\n",
    "from src.data_pipeline.model.random_forest import RandomForestModel\n",
    "from src.data_pipeline.pre_process_data.pre_process_data import PreProcessData"
   ]
  },
  {
   "cell_type": "code",
   "execution_count": null,
   "metadata": {},
   "outputs": [],
   "source": [
    "pre_process_data = PreProcessData()\n",
    "feature_engineering = FeatureEngineering()\n",
    "rf_model = RandomForestModel(model_file='../data/RandomForest_Ksmash_WordEmbedding.model')"
   ]
  },
  {
   "cell_type": "code",
   "execution_count": 3,
   "metadata": {},
   "outputs": [
    {
     "name": "stderr",
     "output_type": "stream",
     "text": [
      "/tmp/ipykernel_26746/356427152.py:1: ParserWarning: Falling back to the 'python' engine because the separator encoded in utf-8 is > 1 char long, and the 'c' engine does not support such separators; you can avoid this warning by specifying engine='python'.\n",
      "  df = pd.read_csv('../data/MX_ADDRESSES_1_2MI.csv', sep='¨').sample(frac=0.1).reset_index(drop=True)\n"
     ]
    },
    {
     "data": {
      "text/plain": [
       "Index(['feature_ks_count_sequence_squared_vowels',\n",
       "       'feature_ks_count_sequence_squared_consonants',\n",
       "       'feature_ks_count_sequence_squared_special_characters',\n",
       "       'feature_ks_ratio_of_numeric_digits_squared',\n",
       "       'feature_ks_average_of_char_count_squared', 'feature_we_0',\n",
       "       'feature_we_1', 'feature_we_2', 'feature_we_3', 'feature_we_4',\n",
       "       'feature_we_5', 'feature_we_6', 'feature_we_7', 'feature_we_8',\n",
       "       'feature_we_9', 'feature_we_10', 'feature_we_11', 'feature_we_12',\n",
       "       'feature_we_13', 'feature_we_14', 'feature_we_15', 'feature_we_16',\n",
       "       'feature_we_17', 'feature_we_18', 'feature_we_19', 'feature_we_20',\n",
       "       'feature_we_21', 'feature_we_22', 'feature_we_23', 'feature_we_24'],\n",
       "      dtype='object')"
      ]
     },
     "execution_count": 3,
     "metadata": {},
     "output_type": "execute_result"
    }
   ],
   "source": [
    "df = pd.read_csv('../data/MX_ADDRESSES_1_2MI.csv', sep='¨').sample(frac=0.1).reset_index(drop=True)\n",
    "\n",
    "pre_process_data.pre_process_data(df, ['STREET_ADDRESS_1', 'STREET_ADDRESS_2'])\n",
    "feature_engineering.extract_features(df, 'concat_STREET_ADDRESS_1_STREET_ADDRESS_2')\n",
    "df.iloc[:,-30:].columns"
   ]
  },
  {
   "cell_type": "code",
   "execution_count": null,
   "metadata": {},
   "outputs": [],
   "source": [
    "df['prediction'] = rf_model.predict(df.iloc[:,-30:])\n",
    "df[df['prediction']== 0][['concat_STREET_ADDRESS_1_STREET_ADDRESS_2', 'prediction']]"
   ]
  }
 ],
 "metadata": {
  "kernelspec": {
   "display_name": "env",
   "language": "python",
   "name": "python3"
  },
  "language_info": {
   "codemirror_mode": {
    "name": "ipython",
    "version": 3
   },
   "file_extension": ".py",
   "mimetype": "text/x-python",
   "name": "python",
   "nbconvert_exporter": "python",
   "pygments_lexer": "ipython3",
   "version": "3.8.10"
  },
  "orig_nbformat": 4,
  "vscode": {
   "interpreter": {
    "hash": "acd904f7927719ac3bd428a31e6feadbc6c298bbba280a82d6227cca902ecf8e"
   }
  }
 },
 "nbformat": 4,
 "nbformat_minor": 2
}
